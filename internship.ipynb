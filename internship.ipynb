{
 "cells": [
  {
   "cell_type": "code",
   "execution_count": 1,
   "id": "f77c2a72",
   "metadata": {},
   "outputs": [],
   "source": [
    "def numberToWords(n):\n",
    "    limit, t = 1000000000000, 0\n",
    "\n",
    "    if (n == 0):\n",
    "        return \"Zero\"\n",
    "\n",
    "    multiplier = [\"\", \"Thousand\", \"Million\", \"Billion\", \"Trillion\"]\n",
    "\n",
    "    first_twenty = [\"\", \"One\", \"Two\",\n",
    "                    \"Three\", \"Four\", \"Five\",\n",
    "                    \"Six\", \"Seven\", \"Eight\",\n",
    "                    \"Nine\", \"Ten\", \"Eleven\",\n",
    "                    \"Twelve\", \"Thirteen\", \"Fourteen\",\n",
    "                    \"Fifteen\", \"Sixteen\", \"Seventeen\",\n",
    "                    \"Eighteen\", \"Nineteen\"]\n",
    "\n",
    "    tens = [\"\", \"Twenty\", \"Thirty\", \"Forty\", \"Fifty\",\n",
    "            \"Sixty\", \"Seventy\", \"Eighty\", \"Ninety\"]\n",
    "\n",
    "    if (n < 20):\n",
    "        return first_twenty[n]\n",
    "    \n",
    "    answer = \"\"\n",
    "    i = n\n",
    "    \n",
    "    while(i > 0):\n",
    "        curr_hun = int(i // limit)\n",
    "        while (curr_hun == 0):\n",
    "            i %= limit\n",
    "            limit /= 1000\n",
    "            curr_hun = i // limit\n",
    "            t += 1\n",
    "            \n",
    "        if (curr_hun > 99):\n",
    "            answer += (first_twenty[int(curr_hun // 100)] + \" Hundred \")\n",
    "            \n",
    "        curr_hun = int(curr_hun % 100)\n",
    "        \n",
    "        if (curr_hun > 0 and curr_hun < 20):\n",
    "            answer += (first_twenty[int(curr_hun)] + \" \")\n",
    "    \n",
    "        elif (curr_hun % 10 == 0 and curr_hun != 0):\n",
    "            answer += (tens[int((curr_hun//10)) - 1] + \" \")\n",
    "            \n",
    "        elif (curr_hun > 19 and curr_hun < 100):\n",
    "            answer += (tens[int((curr_hun//10)) - 1] + \" \" + first_twenty[int(curr_hun % 10)] + \" \")\n",
    "        print(t)\n",
    "        if (t < 4):\n",
    "            answer += (multiplier[t] + \" \")\n",
    "     \n",
    "        t -= 1     \n",
    "        i = i % limit\n",
    "        limit = limit // 1000\n",
    "  \n",
    "    return answer"
   ]
  }
 ],
 "metadata": {
  "kernelspec": {
   "display_name": "Python 3 (ipykernel)",
   "language": "python",
   "name": "python3"
  },
  "language_info": {
   "codemirror_mode": {
    "name": "ipython",
    "version": 3
   },
   "file_extension": ".py",
   "mimetype": "text/x-python",
   "name": "python",
   "nbconvert_exporter": "python",
   "pygments_lexer": "ipython3",
   "version": "3.9.0"
  }
 },
 "nbformat": 4,
 "nbformat_minor": 5
}
